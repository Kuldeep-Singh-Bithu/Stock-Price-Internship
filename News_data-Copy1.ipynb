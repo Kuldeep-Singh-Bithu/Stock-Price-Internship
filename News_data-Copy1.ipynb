{
 "cells": [
  {
   "cell_type": "code",
   "execution_count": 1,
   "id": "boolean-reasoning",
   "metadata": {},
   "outputs": [],
   "source": [
    "import pandas as pd\n",
    "from sklearn.feature_extraction.text import CountVectorizer\n",
    "from nltk.stem.wordnet import WordNetLemmatizer\n",
    "from wordcloud import WordCloud, STOPWORDS\n",
    "from nltk.corpus import stopwords\n",
    "from nltk.stem import PorterStemmer\n",
    "from nltk import word_tokenize\n",
    "import plotly as py\n",
    "import plotly.tools as tls\n",
    "from plotly.offline import iplot\n",
    "import cufflinks as cf\n",
    "import warnings\n",
    "warnings.filterwarnings(\"ignore\")"
   ]
  },
  {
   "cell_type": "code",
   "execution_count": 2,
   "id": "expanded-princess",
   "metadata": {},
   "outputs": [
    {
     "data": {
      "text/html": [
       "        <script type=\"text/javascript\">\n",
       "        window.PlotlyConfig = {MathJaxConfig: 'local'};\n",
       "        if (window.MathJax) {MathJax.Hub.Config({SVG: {font: \"STIX-Web\"}});}\n",
       "        if (typeof require !== 'undefined') {\n",
       "        require.undef(\"plotly\");\n",
       "        requirejs.config({\n",
       "            paths: {\n",
       "                'plotly': ['https://cdn.plot.ly/plotly-latest.min']\n",
       "            }\n",
       "        });\n",
       "        require(['plotly'], function(Plotly) {\n",
       "            window._Plotly = Plotly;\n",
       "        });\n",
       "        }\n",
       "        </script>\n",
       "        "
      ]
     },
     "metadata": {},
     "output_type": "display_data"
    },
    {
     "data": {
      "text/html": [
       "        <script type=\"text/javascript\">\n",
       "        window.PlotlyConfig = {MathJaxConfig: 'local'};\n",
       "        if (window.MathJax) {MathJax.Hub.Config({SVG: {font: \"STIX-Web\"}});}\n",
       "        if (typeof require !== 'undefined') {\n",
       "        require.undef(\"plotly\");\n",
       "        requirejs.config({\n",
       "            paths: {\n",
       "                'plotly': ['https://cdn.plot.ly/plotly-latest.min']\n",
       "            }\n",
       "        });\n",
       "        require(['plotly'], function(Plotly) {\n",
       "            window._Plotly = Plotly;\n",
       "        });\n",
       "        }\n",
       "        </script>\n",
       "        "
      ]
     },
     "metadata": {},
     "output_type": "display_data"
    }
   ],
   "source": [
    "cf.go_offline()\n",
    "py.offline.init_notebook_mode(connected=True)"
   ]
  },
  {
   "cell_type": "code",
   "execution_count": 3,
   "id": "lonely-reviewer",
   "metadata": {},
   "outputs": [
    {
     "data": {
      "text/html": [
       "<div>\n",
       "<style scoped>\n",
       "    .dataframe tbody tr th:only-of-type {\n",
       "        vertical-align: middle;\n",
       "    }\n",
       "\n",
       "    .dataframe tbody tr th {\n",
       "        vertical-align: top;\n",
       "    }\n",
       "\n",
       "    .dataframe thead th {\n",
       "        text-align: right;\n",
       "    }\n",
       "</style>\n",
       "<table border=\"1\" class=\"dataframe\">\n",
       "  <thead>\n",
       "    <tr style=\"text-align: right;\">\n",
       "      <th></th>\n",
       "      <th>Headlines</th>\n",
       "    </tr>\n",
       "    <tr>\n",
       "      <th>Date</th>\n",
       "      <th></th>\n",
       "    </tr>\n",
       "  </thead>\n",
       "  <tbody>\n",
       "    <tr>\n",
       "      <th>2015-01-01</th>\n",
       "      <td>What Can We Expect From Apple Inc. In 2015? 1 ...</td>\n",
       "    </tr>\n",
       "    <tr>\n",
       "      <th>2015-01-02</th>\n",
       "      <td>What to expect from Apple in 2015 beyond its s...</td>\n",
       "    </tr>\n",
       "    <tr>\n",
       "      <th>2015-01-03</th>\n",
       "      <td>Mountie: An inexpensive and innovative way to ...</td>\n",
       "    </tr>\n",
       "    <tr>\n",
       "      <th>2015-01-04</th>\n",
       "      <td>Donald Yacktman on the Sources of Moats, His C...</td>\n",
       "    </tr>\n",
       "    <tr>\n",
       "      <th>2015-01-05</th>\n",
       "      <td>SIM-free iPhone 6, 6 Plus reportedly debuting ...</td>\n",
       "    </tr>\n",
       "  </tbody>\n",
       "</table>\n",
       "</div>"
      ],
      "text/plain": [
       "                                                    Headlines\n",
       "Date                                                         \n",
       "2015-01-01  What Can We Expect From Apple Inc. In 2015? 1 ...\n",
       "2015-01-02  What to expect from Apple in 2015 beyond its s...\n",
       "2015-01-03  Mountie: An inexpensive and innovative way to ...\n",
       "2015-01-04  Donald Yacktman on the Sources of Moats, His C...\n",
       "2015-01-05  SIM-free iPhone 6, 6 Plus reportedly debuting ..."
      ]
     },
     "execution_count": 3,
     "metadata": {},
     "output_type": "execute_result"
    }
   ],
   "source": [
    "data_2015=pd.read_csv(\"C:/Users/DELL/Technocolabs(DS Intern)/Headlines_2015.csv\",index_col='Date',\n",
    "                     date_parser=lambda dates:pd.datetime.strptime(dates,\"%Y-%m-%d\"))\n",
    "data_2015.head()"
   ]
  },
  {
   "cell_type": "code",
   "execution_count": 4,
   "id": "classical-coverage",
   "metadata": {},
   "outputs": [
    {
     "data": {
      "text/plain": [
       "(365, 1)"
      ]
     },
     "execution_count": 4,
     "metadata": {},
     "output_type": "execute_result"
    }
   ],
   "source": [
    "data_2015.shape"
   ]
  },
  {
   "cell_type": "code",
   "execution_count": 5,
   "id": "pleased-purpose",
   "metadata": {},
   "outputs": [
    {
     "data": {
      "text/plain": [
       "Headlines    0\n",
       "dtype: int64"
      ]
     },
     "execution_count": 5,
     "metadata": {},
     "output_type": "execute_result"
    }
   ],
   "source": [
    "data_2015.isnull().sum()"
   ]
  },
  {
   "cell_type": "code",
   "execution_count": 6,
   "id": "centered-phone",
   "metadata": {},
   "outputs": [
    {
     "data": {
      "text/plain": [
       "Headlines    object\n",
       "dtype: object"
      ]
     },
     "execution_count": 6,
     "metadata": {},
     "output_type": "execute_result"
    }
   ],
   "source": [
    "data_2015.dtypes"
   ]
  },
  {
   "cell_type": "code",
   "execution_count": 7,
   "id": "another-habitat",
   "metadata": {},
   "outputs": [
    {
     "data": {
      "text/html": [
       "<div>\n",
       "<style scoped>\n",
       "    .dataframe tbody tr th:only-of-type {\n",
       "        vertical-align: middle;\n",
       "    }\n",
       "\n",
       "    .dataframe tbody tr th {\n",
       "        vertical-align: top;\n",
       "    }\n",
       "\n",
       "    .dataframe thead th {\n",
       "        text-align: right;\n",
       "    }\n",
       "</style>\n",
       "<table border=\"1\" class=\"dataframe\">\n",
       "  <thead>\n",
       "    <tr style=\"text-align: right;\">\n",
       "      <th></th>\n",
       "      <th>Headlines</th>\n",
       "    </tr>\n",
       "    <tr>\n",
       "      <th>Date</th>\n",
       "      <th></th>\n",
       "    </tr>\n",
       "  </thead>\n",
       "  <tbody>\n",
       "    <tr>\n",
       "      <th>2016-01-01</th>\n",
       "      <td>Investors Buy Apple Inc. (AAPL) on Weakness Be...</td>\n",
       "    </tr>\n",
       "    <tr>\n",
       "      <th>2016-01-02</th>\n",
       "      <td>AAPL Stock: Is This the Next Big Thing from Ap...</td>\n",
       "    </tr>\n",
       "    <tr>\n",
       "      <th>2016-01-03</th>\n",
       "      <td>Global Equities&amp;quot; Trip Chowdhry Blasts App...</td>\n",
       "    </tr>\n",
       "    <tr>\n",
       "      <th>2016-01-04</th>\n",
       "      <td>Stifel Nicolaus Reiterates Buy Rating for Appl...</td>\n",
       "    </tr>\n",
       "    <tr>\n",
       "      <th>2016-01-05</th>\n",
       "      <td>Apple Sitting Out The Rally Apple&amp;quot;s (AAPL...</td>\n",
       "    </tr>\n",
       "  </tbody>\n",
       "</table>\n",
       "</div>"
      ],
      "text/plain": [
       "                                                    Headlines\n",
       "Date                                                         \n",
       "2016-01-01  Investors Buy Apple Inc. (AAPL) on Weakness Be...\n",
       "2016-01-02  AAPL Stock: Is This the Next Big Thing from Ap...\n",
       "2016-01-03  Global Equities&quot; Trip Chowdhry Blasts App...\n",
       "2016-01-04  Stifel Nicolaus Reiterates Buy Rating for Appl...\n",
       "2016-01-05  Apple Sitting Out The Rally Apple&quot;s (AAPL..."
      ]
     },
     "execution_count": 7,
     "metadata": {},
     "output_type": "execute_result"
    }
   ],
   "source": [
    "data_2016=pd.read_csv(\"C:/Users/DELL/Technocolabs(DS Intern)/Headlines_2016.csv\",index_col='Date',\n",
    "                     date_parser=lambda dates:pd.datetime.strptime(dates,\"%Y-%m-%d\"))\n",
    "data_2016.head()"
   ]
  },
  {
   "cell_type": "code",
   "execution_count": 8,
   "id": "interstate-temple",
   "metadata": {},
   "outputs": [
    {
     "data": {
      "text/plain": [
       "(366, 1)"
      ]
     },
     "execution_count": 8,
     "metadata": {},
     "output_type": "execute_result"
    }
   ],
   "source": [
    "data_2016.shape"
   ]
  },
  {
   "cell_type": "code",
   "execution_count": 9,
   "id": "fossil-zambia",
   "metadata": {},
   "outputs": [
    {
     "data": {
      "text/plain": [
       "Headlines    0\n",
       "dtype: int64"
      ]
     },
     "execution_count": 9,
     "metadata": {},
     "output_type": "execute_result"
    }
   ],
   "source": [
    "data_2016.isnull().sum()"
   ]
  },
  {
   "cell_type": "code",
   "execution_count": 10,
   "id": "manual-closing",
   "metadata": {},
   "outputs": [
    {
     "data": {
      "text/plain": [
       "Headlines    object\n",
       "dtype: object"
      ]
     },
     "execution_count": 10,
     "metadata": {},
     "output_type": "execute_result"
    }
   ],
   "source": [
    "data_2016.dtypes"
   ]
  },
  {
   "cell_type": "code",
   "execution_count": 11,
   "id": "spectacular-chorus",
   "metadata": {},
   "outputs": [
    {
     "data": {
      "text/html": [
       "<div>\n",
       "<style scoped>\n",
       "    .dataframe tbody tr th:only-of-type {\n",
       "        vertical-align: middle;\n",
       "    }\n",
       "\n",
       "    .dataframe tbody tr th {\n",
       "        vertical-align: top;\n",
       "    }\n",
       "\n",
       "    .dataframe thead th {\n",
       "        text-align: right;\n",
       "    }\n",
       "</style>\n",
       "<table border=\"1\" class=\"dataframe\">\n",
       "  <thead>\n",
       "    <tr style=\"text-align: right;\">\n",
       "      <th></th>\n",
       "      <th>Headlines</th>\n",
       "    </tr>\n",
       "    <tr>\n",
       "      <th>Date</th>\n",
       "      <th></th>\n",
       "    </tr>\n",
       "  </thead>\n",
       "  <tbody>\n",
       "    <tr>\n",
       "      <th>2017-01-01</th>\n",
       "      <td>Glyphosate: Unsafe On Any Plate - What Is In Y...</td>\n",
       "    </tr>\n",
       "    <tr>\n",
       "      <th>2017-01-02</th>\n",
       "      <td>The 2 Worst Artificial Intelligence Stocks of ...</td>\n",
       "    </tr>\n",
       "    <tr>\n",
       "      <th>2017-01-03</th>\n",
       "      <td>Internet Of Things - The Feds Are Inside Your ...</td>\n",
       "    </tr>\n",
       "    <tr>\n",
       "      <th>2017-01-04</th>\n",
       "      <td>Apple pulls New York Times app from iTunes sto...</td>\n",
       "    </tr>\n",
       "    <tr>\n",
       "      <th>2017-01-05</th>\n",
       "      <td>Microsoft, Apple, Alphabet The Most Crowded La...</td>\n",
       "    </tr>\n",
       "  </tbody>\n",
       "</table>\n",
       "</div>"
      ],
      "text/plain": [
       "                                                    Headlines\n",
       "Date                                                         \n",
       "2017-01-01  Glyphosate: Unsafe On Any Plate - What Is In Y...\n",
       "2017-01-02  The 2 Worst Artificial Intelligence Stocks of ...\n",
       "2017-01-03  Internet Of Things - The Feds Are Inside Your ...\n",
       "2017-01-04  Apple pulls New York Times app from iTunes sto...\n",
       "2017-01-05  Microsoft, Apple, Alphabet The Most Crowded La..."
      ]
     },
     "execution_count": 11,
     "metadata": {},
     "output_type": "execute_result"
    }
   ],
   "source": [
    "data_2017=pd.read_csv(\"C:/Users/DELL/Technocolabs(DS Intern)/Headlines_2017.csv\",index_col='Date',\n",
    "                     date_parser=lambda dates:pd.datetime.strptime(dates,\"%Y-%m-%d\"))\n",
    "data_2017.head()"
   ]
  },
  {
   "cell_type": "code",
   "execution_count": 12,
   "id": "marked-performance",
   "metadata": {},
   "outputs": [
    {
     "data": {
      "text/plain": [
       "(365, 1)"
      ]
     },
     "execution_count": 12,
     "metadata": {},
     "output_type": "execute_result"
    }
   ],
   "source": [
    "data_2017.shape"
   ]
  },
  {
   "cell_type": "code",
   "execution_count": 13,
   "id": "induced-counter",
   "metadata": {},
   "outputs": [
    {
     "data": {
      "text/plain": [
       "Headlines    0\n",
       "dtype: int64"
      ]
     },
     "execution_count": 13,
     "metadata": {},
     "output_type": "execute_result"
    }
   ],
   "source": [
    "data_2017.isnull().sum()"
   ]
  },
  {
   "cell_type": "code",
   "execution_count": 14,
   "id": "floating-privacy",
   "metadata": {},
   "outputs": [
    {
     "data": {
      "text/html": [
       "<div>\n",
       "<style scoped>\n",
       "    .dataframe tbody tr th:only-of-type {\n",
       "        vertical-align: middle;\n",
       "    }\n",
       "\n",
       "    .dataframe tbody tr th {\n",
       "        vertical-align: top;\n",
       "    }\n",
       "\n",
       "    .dataframe thead th {\n",
       "        text-align: right;\n",
       "    }\n",
       "</style>\n",
       "<table border=\"1\" class=\"dataframe\">\n",
       "  <thead>\n",
       "    <tr style=\"text-align: right;\">\n",
       "      <th></th>\n",
       "      <th>Headlines</th>\n",
       "    </tr>\n",
       "    <tr>\n",
       "      <th>Date</th>\n",
       "      <th></th>\n",
       "    </tr>\n",
       "  </thead>\n",
       "  <tbody>\n",
       "    <tr>\n",
       "      <th>2018-01-01</th>\n",
       "      <td>Apple&amp;quot;s Executive Cash Bonus Plan Benzing...</td>\n",
       "    </tr>\n",
       "    <tr>\n",
       "      <th>2018-01-02</th>\n",
       "      <td>Sword Of Damocles: Unintended Consequences Of ...</td>\n",
       "    </tr>\n",
       "    <tr>\n",
       "      <th>2018-01-03</th>\n",
       "      <td>Intel Officially Responds to Inaccurate Media ...</td>\n",
       "    </tr>\n",
       "    <tr>\n",
       "      <th>2018-01-04</th>\n",
       "      <td>Jimmy Iovine to leave Apple Music in August - ...</td>\n",
       "    </tr>\n",
       "    <tr>\n",
       "      <th>2018-01-05</th>\n",
       "      <td>These Jaw-Dropping Facts Will Change Your Mind...</td>\n",
       "    </tr>\n",
       "  </tbody>\n",
       "</table>\n",
       "</div>"
      ],
      "text/plain": [
       "                                                    Headlines\n",
       "Date                                                         \n",
       "2018-01-01  Apple&quot;s Executive Cash Bonus Plan Benzing...\n",
       "2018-01-02  Sword Of Damocles: Unintended Consequences Of ...\n",
       "2018-01-03  Intel Officially Responds to Inaccurate Media ...\n",
       "2018-01-04  Jimmy Iovine to leave Apple Music in August - ...\n",
       "2018-01-05  These Jaw-Dropping Facts Will Change Your Mind..."
      ]
     },
     "execution_count": 14,
     "metadata": {},
     "output_type": "execute_result"
    }
   ],
   "source": [
    "data_2018=pd.read_csv(\"C:/Users/DELL/Technocolabs(DS Intern)/Headlines_2018.csv\",index_col='Date',\n",
    "                     date_parser=lambda dates:pd.datetime.strptime(dates,\"%Y-%m-%d\"))\n",
    "data_2018.head()"
   ]
  },
  {
   "cell_type": "code",
   "execution_count": 15,
   "id": "horizontal-decrease",
   "metadata": {},
   "outputs": [
    {
     "data": {
      "text/plain": [
       "(365, 1)"
      ]
     },
     "execution_count": 15,
     "metadata": {},
     "output_type": "execute_result"
    }
   ],
   "source": [
    "data_2018.shape"
   ]
  },
  {
   "cell_type": "code",
   "execution_count": 16,
   "id": "prime-jimmy",
   "metadata": {},
   "outputs": [
    {
     "data": {
      "text/plain": [
       "Headlines    0\n",
       "dtype: int64"
      ]
     },
     "execution_count": 16,
     "metadata": {},
     "output_type": "execute_result"
    }
   ],
   "source": [
    "data_2018.isnull().sum()"
   ]
  },
  {
   "cell_type": "code",
   "execution_count": 17,
   "id": "decimal-candy",
   "metadata": {},
   "outputs": [
    {
     "data": {
      "text/html": [
       "<div>\n",
       "<style scoped>\n",
       "    .dataframe tbody tr th:only-of-type {\n",
       "        vertical-align: middle;\n",
       "    }\n",
       "\n",
       "    .dataframe tbody tr th {\n",
       "        vertical-align: top;\n",
       "    }\n",
       "\n",
       "    .dataframe thead th {\n",
       "        text-align: right;\n",
       "    }\n",
       "</style>\n",
       "<table border=\"1\" class=\"dataframe\">\n",
       "  <thead>\n",
       "    <tr style=\"text-align: right;\">\n",
       "      <th></th>\n",
       "      <th>Headlines</th>\n",
       "    </tr>\n",
       "    <tr>\n",
       "      <th>Date</th>\n",
       "      <th></th>\n",
       "    </tr>\n",
       "  </thead>\n",
       "  <tbody>\n",
       "    <tr>\n",
       "      <th>2019-01-01</th>\n",
       "      <td>Value Line: Now would be an opportune time to ...</td>\n",
       "    </tr>\n",
       "    <tr>\n",
       "      <th>2019-01-02</th>\n",
       "      <td>Australian shares gain as US futures point to ...</td>\n",
       "    </tr>\n",
       "    <tr>\n",
       "      <th>2019-01-03</th>\n",
       "      <td>RPT-Paying the price: China shoppers, stung by...</td>\n",
       "    </tr>\n",
       "    <tr>\n",
       "      <th>2019-01-04</th>\n",
       "      <td>The End Of The Age Of Apple? What Should I Do ...</td>\n",
       "    </tr>\n",
       "    <tr>\n",
       "      <th>2019-01-05</th>\n",
       "      <td>Why Apple Stock Dropped 12% in December Why Ap...</td>\n",
       "    </tr>\n",
       "  </tbody>\n",
       "</table>\n",
       "</div>"
      ],
      "text/plain": [
       "                                                    Headlines\n",
       "Date                                                         \n",
       "2019-01-01  Value Line: Now would be an opportune time to ...\n",
       "2019-01-02  Australian shares gain as US futures point to ...\n",
       "2019-01-03  RPT-Paying the price: China shoppers, stung by...\n",
       "2019-01-04  The End Of The Age Of Apple? What Should I Do ...\n",
       "2019-01-05  Why Apple Stock Dropped 12% in December Why Ap..."
      ]
     },
     "execution_count": 17,
     "metadata": {},
     "output_type": "execute_result"
    }
   ],
   "source": [
    "data_2019=pd.read_csv(\"C:/Users/DELL/Technocolabs(DS Intern)/Headlines_2019.csv\",index_col='Date',\n",
    "                     date_parser=lambda dates:pd.datetime.strptime(dates,\"%Y-%m-%d\"))\n",
    "data_2019.head()"
   ]
  },
  {
   "cell_type": "code",
   "execution_count": 18,
   "id": "final-dakota",
   "metadata": {},
   "outputs": [
    {
     "data": {
      "text/plain": [
       "(364, 1)"
      ]
     },
     "execution_count": 18,
     "metadata": {},
     "output_type": "execute_result"
    }
   ],
   "source": [
    "data_2019.shape"
   ]
  },
  {
   "cell_type": "code",
   "execution_count": 19,
   "id": "beautiful-liechtenstein",
   "metadata": {},
   "outputs": [
    {
     "data": {
      "text/plain": [
       "Headlines    0\n",
       "dtype: int64"
      ]
     },
     "execution_count": 19,
     "metadata": {},
     "output_type": "execute_result"
    }
   ],
   "source": [
    "data_2019.isnull().sum()"
   ]
  },
  {
   "cell_type": "code",
   "execution_count": 20,
   "id": "adjacent-council",
   "metadata": {},
   "outputs": [
    {
     "data": {
      "text/html": [
       "<div>\n",
       "<style scoped>\n",
       "    .dataframe tbody tr th:only-of-type {\n",
       "        vertical-align: middle;\n",
       "    }\n",
       "\n",
       "    .dataframe tbody tr th {\n",
       "        vertical-align: top;\n",
       "    }\n",
       "\n",
       "    .dataframe thead th {\n",
       "        text-align: right;\n",
       "    }\n",
       "</style>\n",
       "<table border=\"1\" class=\"dataframe\">\n",
       "  <thead>\n",
       "    <tr style=\"text-align: right;\">\n",
       "      <th></th>\n",
       "      <th>Headlines</th>\n",
       "    </tr>\n",
       "    <tr>\n",
       "      <th>Date</th>\n",
       "      <th></th>\n",
       "    </tr>\n",
       "  </thead>\n",
       "  <tbody>\n",
       "    <tr>\n",
       "      <th>2020-01-01</th>\n",
       "      <td>Apple Sale Alert: AirPods Pro, iPad Pro, iPhon...</td>\n",
       "    </tr>\n",
       "    <tr>\n",
       "      <th>2020-01-02</th>\n",
       "      <td>Apple: Valuation Stretched Like A Rubber Band ...</td>\n",
       "    </tr>\n",
       "    <tr>\n",
       "      <th>2020-01-03</th>\n",
       "      <td>Apple CEO Tim Cook made $11.6 million in the c...</td>\n",
       "    </tr>\n",
       "    <tr>\n",
       "      <th>2020-01-04</th>\n",
       "      <td>Apple Sale Alert: AirPods Pro, iPad Pro, iPhon...</td>\n",
       "    </tr>\n",
       "    <tr>\n",
       "      <th>2020-01-05</th>\n",
       "      <td>Apple 2020: Coming 13-Inch MacBook Pro, MacBoo...</td>\n",
       "    </tr>\n",
       "  </tbody>\n",
       "</table>\n",
       "</div>"
      ],
      "text/plain": [
       "                                                    Headlines\n",
       "Date                                                         \n",
       "2020-01-01  Apple Sale Alert: AirPods Pro, iPad Pro, iPhon...\n",
       "2020-01-02  Apple: Valuation Stretched Like A Rubber Band ...\n",
       "2020-01-03  Apple CEO Tim Cook made $11.6 million in the c...\n",
       "2020-01-04  Apple Sale Alert: AirPods Pro, iPad Pro, iPhon...\n",
       "2020-01-05  Apple 2020: Coming 13-Inch MacBook Pro, MacBoo..."
      ]
     },
     "execution_count": 20,
     "metadata": {},
     "output_type": "execute_result"
    }
   ],
   "source": [
    "data_2020=pd.read_csv(\"C:/Users/DELL/Technocolabs(DS Intern)/Headlines_2020.csv\",index_col='Date',\n",
    "                     date_parser=lambda dates:pd.datetime.strptime(dates,\"%Y-%m-%d\"))\n",
    "data_2020.head()"
   ]
  },
  {
   "cell_type": "code",
   "execution_count": 21,
   "id": "senior-transmission",
   "metadata": {},
   "outputs": [
    {
     "data": {
      "text/plain": [
       "(366, 1)"
      ]
     },
     "execution_count": 21,
     "metadata": {},
     "output_type": "execute_result"
    }
   ],
   "source": [
    "data_2020.shape"
   ]
  },
  {
   "cell_type": "code",
   "execution_count": 22,
   "id": "advanced-equivalent",
   "metadata": {},
   "outputs": [
    {
     "data": {
      "text/plain": [
       "Headlines    0\n",
       "dtype: int64"
      ]
     },
     "execution_count": 22,
     "metadata": {},
     "output_type": "execute_result"
    }
   ],
   "source": [
    "data_2020.isnull().sum()"
   ]
  },
  {
   "cell_type": "code",
   "execution_count": 23,
   "id": "dynamic-party",
   "metadata": {},
   "outputs": [
    {
     "data": {
      "text/html": [
       "<div>\n",
       "<style scoped>\n",
       "    .dataframe tbody tr th:only-of-type {\n",
       "        vertical-align: middle;\n",
       "    }\n",
       "\n",
       "    .dataframe tbody tr th {\n",
       "        vertical-align: top;\n",
       "    }\n",
       "\n",
       "    .dataframe thead th {\n",
       "        text-align: right;\n",
       "    }\n",
       "</style>\n",
       "<table border=\"1\" class=\"dataframe\">\n",
       "  <thead>\n",
       "    <tr style=\"text-align: right;\">\n",
       "      <th></th>\n",
       "      <th>Headlines</th>\n",
       "    </tr>\n",
       "    <tr>\n",
       "      <th>Date</th>\n",
       "      <th></th>\n",
       "    </tr>\n",
       "  </thead>\n",
       "  <tbody>\n",
       "    <tr>\n",
       "      <th>2021-01-01</th>\n",
       "      <td>Tales of underage workers in Apple&amp;quot;s supp...</td>\n",
       "    </tr>\n",
       "    <tr>\n",
       "      <th>2021-01-02</th>\n",
       "      <td>Why Apple &amp;quot;iCar&amp;quot; Won&amp;quot;t Be Self-...</td>\n",
       "    </tr>\n",
       "    <tr>\n",
       "      <th>2021-01-03</th>\n",
       "      <td>The best after-Christmas deals you can get rig...</td>\n",
       "    </tr>\n",
       "    <tr>\n",
       "      <th>2021-01-04</th>\n",
       "      <td>How four of this year&amp;quot;s Transformers help...</td>\n",
       "    </tr>\n",
       "    <tr>\n",
       "      <th>2021-01-05</th>\n",
       "      <td>The Apple Products That Could Be Released In 2...</td>\n",
       "    </tr>\n",
       "  </tbody>\n",
       "</table>\n",
       "</div>"
      ],
      "text/plain": [
       "                                                    Headlines\n",
       "Date                                                         \n",
       "2021-01-01  Tales of underage workers in Apple&quot;s supp...\n",
       "2021-01-02  Why Apple &quot;iCar&quot; Won&quot;t Be Self-...\n",
       "2021-01-03  The best after-Christmas deals you can get rig...\n",
       "2021-01-04  How four of this year&quot;s Transformers help...\n",
       "2021-01-05  The Apple Products That Could Be Released In 2..."
      ]
     },
     "execution_count": 23,
     "metadata": {},
     "output_type": "execute_result"
    }
   ],
   "source": [
    "data_2021=pd.read_csv(\"C:/Users/DELL/Technocolabs(DS Intern)/Headlines_2021.csv\",index_col='Date',\n",
    "                     date_parser=lambda dates:pd.datetime.strptime(dates,\"%Y-%m-%d\"))\n",
    "data_2021.head()"
   ]
  },
  {
   "cell_type": "code",
   "execution_count": 24,
   "id": "concrete-fireplace",
   "metadata": {},
   "outputs": [
    {
     "data": {
      "text/plain": [
       "(174, 1)"
      ]
     },
     "execution_count": 24,
     "metadata": {},
     "output_type": "execute_result"
    }
   ],
   "source": [
    "data_2021.shape"
   ]
  },
  {
   "cell_type": "code",
   "execution_count": 25,
   "id": "sufficient-uzbekistan",
   "metadata": {},
   "outputs": [
    {
     "data": {
      "text/plain": [
       "Headlines    0\n",
       "dtype: int64"
      ]
     },
     "execution_count": 25,
     "metadata": {},
     "output_type": "execute_result"
    }
   ],
   "source": [
    "data_2021.isnull().sum()"
   ]
  },
  {
   "cell_type": "code",
   "execution_count": 26,
   "id": "federal-figure",
   "metadata": {},
   "outputs": [
    {
     "data": {
      "text/html": [
       "<div>\n",
       "<style scoped>\n",
       "    .dataframe tbody tr th:only-of-type {\n",
       "        vertical-align: middle;\n",
       "    }\n",
       "\n",
       "    .dataframe tbody tr th {\n",
       "        vertical-align: top;\n",
       "    }\n",
       "\n",
       "    .dataframe thead th {\n",
       "        text-align: right;\n",
       "    }\n",
       "</style>\n",
       "<table border=\"1\" class=\"dataframe\">\n",
       "  <thead>\n",
       "    <tr style=\"text-align: right;\">\n",
       "      <th></th>\n",
       "      <th>Headlines</th>\n",
       "    </tr>\n",
       "    <tr>\n",
       "      <th>Date</th>\n",
       "      <th></th>\n",
       "    </tr>\n",
       "  </thead>\n",
       "  <tbody>\n",
       "    <tr>\n",
       "      <th>2015-01-01</th>\n",
       "      <td>What Can We Expect From Apple Inc. In 2015? 1 ...</td>\n",
       "    </tr>\n",
       "    <tr>\n",
       "      <th>2015-01-02</th>\n",
       "      <td>What to expect from Apple in 2015 beyond its s...</td>\n",
       "    </tr>\n",
       "    <tr>\n",
       "      <th>2015-01-03</th>\n",
       "      <td>Mountie: An inexpensive and innovative way to ...</td>\n",
       "    </tr>\n",
       "    <tr>\n",
       "      <th>2015-01-04</th>\n",
       "      <td>Donald Yacktman on the Sources of Moats, His C...</td>\n",
       "    </tr>\n",
       "    <tr>\n",
       "      <th>2015-01-05</th>\n",
       "      <td>SIM-free iPhone 6, 6 Plus reportedly debuting ...</td>\n",
       "    </tr>\n",
       "  </tbody>\n",
       "</table>\n",
       "</div>"
      ],
      "text/plain": [
       "                                                    Headlines\n",
       "Date                                                         \n",
       "2015-01-01  What Can We Expect From Apple Inc. In 2015? 1 ...\n",
       "2015-01-02  What to expect from Apple in 2015 beyond its s...\n",
       "2015-01-03  Mountie: An inexpensive and innovative way to ...\n",
       "2015-01-04  Donald Yacktman on the Sources of Moats, His C...\n",
       "2015-01-05  SIM-free iPhone 6, 6 Plus reportedly debuting ..."
      ]
     },
     "execution_count": 26,
     "metadata": {},
     "output_type": "execute_result"
    }
   ],
   "source": [
    "final_df=pd.concat([data_2015,data_2016,data_2017,data_2018,data_2019,data_2020,data_2021])\n",
    "final_df.head()"
   ]
  },
  {
   "cell_type": "code",
   "execution_count": 27,
   "id": "included-indication",
   "metadata": {},
   "outputs": [
    {
     "data": {
      "text/plain": [
       "(2365, 1)"
      ]
     },
     "execution_count": 27,
     "metadata": {},
     "output_type": "execute_result"
    }
   ],
   "source": [
    "final_df.shape"
   ]
  },
  {
   "cell_type": "code",
   "execution_count": 28,
   "id": "musical-brave",
   "metadata": {},
   "outputs": [],
   "source": [
    "final_df.drop_duplicates(inplace=True)"
   ]
  },
  {
   "cell_type": "code",
   "execution_count": 29,
   "id": "musical-lodging",
   "metadata": {},
   "outputs": [
    {
     "data": {
      "text/plain": [
       "(2332, 1)"
      ]
     },
     "execution_count": 29,
     "metadata": {},
     "output_type": "execute_result"
    }
   ],
   "source": [
    "final_df.shape"
   ]
  },
  {
   "cell_type": "code",
   "execution_count": 30,
   "id": "speaking-luther",
   "metadata": {},
   "outputs": [],
   "source": [
    "#final_df['Headlines'].tolist()"
   ]
  },
  {
   "cell_type": "markdown",
   "id": "confused-worthy",
   "metadata": {},
   "source": [
    "# Handling contraction words"
   ]
  },
  {
   "cell_type": "code",
   "execution_count": 31,
   "id": "awful-conflict",
   "metadata": {},
   "outputs": [],
   "source": [
    "contractors_eng={\n",
    "\"&quot;\":'\"',\n",
    "\"a'ight\":\"alright\",\n",
    "\"ain't\":\"am not\",\n",
    "\"amn't\":\"am not\",\n",
    "\"arencha\":\"aren’t you / are not you\",\n",
    "\"aren't\":\"are not\",\n",
    "\"‘bout\":\"about\",\n",
    "\"cannot\":\"can not\",\n",
    "\"can't\":\"cannot\",\n",
    "\"cap’n\":\"captain\",\n",
    "\"'cause\":\"because\",\n",
    "\"’cept\":\"except\",\n",
    "\"could've\":\"could have\",\n",
    "\"couldn't\":\"could not\",\n",
    "\"couldn't've\":\"could not have\",\n",
    "\"dammit\":\"damn it\",\n",
    "\"daren't\":\"dare not / dared not\",\n",
    "\"daresn't\":\"dare not\",\n",
    "\"dasn't\":\"dare not\",\n",
    "\"didn't\":\"did not\",\n",
    "\"doesn't\":\"does not\",\n",
    "\"don't\":\"do not\",\n",
    "\"dunno\":\"do not know\",\n",
    "\"d'ye\":\"do you / did you\",\n",
    "\"e'en\":\"even\",\n",
    "\"e'er\":\"ever\",\n",
    "\"'em\":\"them\",\n",
    "\"everybody's\":\"everybody is\",\n",
    "\"everyone's\":\"everyone is\",\n",
    "\"fo’c’sle\":\"forecastle\",\n",
    "\"’gainst\":\"against\",\n",
    "\"g'day\":\"good day\",\n",
    "\"gimme\":\"give me\",\n",
    "\"giv'n\":\"given\",\n",
    "\"gonna\":\"going to\",\n",
    "\"gon't\":\"go not\",\n",
    "\"gotta\":\"got to\",\n",
    "\"hadn't\":\"had not\",\n",
    "\"had've\":\"had have\",\n",
    "\"hasn't\":\"has not\",\n",
    "\"haven't\":\"have not\",\n",
    "\"he'd\":\"he had / he would\",\n",
    "\"he'll\":\"he shall / he will\",\n",
    "\"helluva\":\"hell of a\",\n",
    "\"he's\":\"he has / he is\",\n",
    "\"here's\":\"here is\",\n",
    "\"how'd\":\"how did / how would\",\n",
    "\"howdy\":\"how do you do\",\n",
    "\"how'll\":\"how will\",\n",
    "\"how're\":\"how are\",\n",
    "\"how's\":\"how has / how is / how does\",\n",
    "\"I'd\":\"I had / I would\",\n",
    "\"I'd've\":\"I would have\",\n",
    "\"I'll\":\"I shall / I will\",\n",
    "\"I'm\":\"I am\",\n",
    "\"Imma\":\"I am about to\",\n",
    "\"I'm'o\":\"I am going to\",\n",
    "\"innit\":\"is it not\",\n",
    "\"Ion\":\"I do not\",\n",
    "\"I've\":\"I have\",\n",
    "\"isn't\":\"is not\",\n",
    "\"it'd\":\"it would\",\n",
    "\"it'll\":\"it will\",\n",
    "\"its\":\"it is\",\n",
    "\"it's\":\"it has / it is\",\n",
    "\"Iunno\":\"I don't know\",\n",
    "\"kinda\":\"kind of\",\n",
    "\"let's\":\"let us\",\n",
    "\"ma'am\":\"madam\",\n",
    "\"mayn't\":\"may not\",\n",
    "\"may've\":\"may have\",\n",
    "\"methinks\":\"I think\",\n",
    "\"mightn't\":\"might not\",\n",
    "\"might've\":\"might have\",\n",
    "\"mustn't\":\"must not\",\n",
    "\"mustn't've\":\"must not have\",\n",
    "\"must've\":\"must have\",\n",
    "\"‘neath\":\"beneath\",\n",
    "\"needn't\":\"need not\",\n",
    "\"nal\":\"and all\",\n",
    "\"ne'er\":\"never\",\n",
    "\"o'clock\":\"of the clock\",\n",
    "\"o'er\":\"over\",\n",
    "\"ol'\":\"old\",\n",
    "\"oughtn't\":\"ought not\",\n",
    "\"‘round\":\"around\",\n",
    "\"'s\":\"is, has, does, or us\",\n",
    "\"shalln't\":\"shall not\",\n",
    "\"shan't\":\"shall not\",\n",
    "\"she'd\":\"she had / she would\",\n",
    "\"she'll\":\"she shall / she will\",\n",
    "\"she's\":\"she has / she is\",\n",
    "\"should've\":\"should have\",\n",
    "\"shouldn't\":\"should not\",\n",
    "\"shouldn't've\":\"should not have\",\n",
    "\"somebody's\":\"somebody has / somebody is\",\n",
    "\"someone's\":\"someone has / someone is\",\n",
    "\"something's\":\"something has / something is\",\n",
    "\"so're\":\"so are\",\n",
    "\"so’s\":\"so is / so has\",\n",
    "\"so’ve\":\"so have\",\n",
    "\"that'll\":\"that will\",\n",
    "\"that're\":\"that are\",\n",
    "\"that's\":\"that has / that is\",\n",
    "\"that'd\":\"that would / that had\",\n",
    "\"there'd\":\"there had / there would\",\n",
    "\"there'll\":\"there shall / there will\",\n",
    "\"there're\":\"there are\",\n",
    "\"there's\":\"there has / there is\",\n",
    "\"these're\":\"these are\",\n",
    "\"these've\":\"these have\",\n",
    "\"they'd\":\"they had / they would\",\n",
    "\"they'll\":\"they will\",\n",
    "\"they're\":\"they are / they were\",\n",
    "\"they've\":\"they have\",\n",
    "\"this's\":\"this has / this is\",\n",
    "\"those're\":\"those are\",\n",
    "\"those've\":\"those have\",\n",
    "\"'thout\":\"without\",\n",
    "\"’til\":\"until\",\n",
    "\"'tis\":\"it is\",\n",
    "\"to've\":\"to have\",\n",
    "\"'twas\":\"it was\",\n",
    "\"'tween\":\"between\",\n",
    "\"'twere\":\"it were\",\n",
    "\"wanna\":\"want to\",\n",
    "\"wasn't\":\"was not\",\n",
    "\"we'd\":\"we had / we would/ we did\",\n",
    "\"we'd've\":\"we would have\",\n",
    "\"we'll\":\"we will\",\n",
    "\"we're\":\"we are\",\n",
    "\"we've\":\"we have\",\n",
    "\"weren't\":\"were not\",\n",
    "\"whatcha\":\"what are you\",\n",
    "\"what'd\":\"what did\",\n",
    "\"what'll\":\"what will\",\n",
    "\"what're\":\"what are/what were\",\n",
    "\"what's\":\"what has / what is / what does\",\n",
    "\"what've\":\"what have\",\n",
    "\"when's\":\"when has / when is\",\n",
    "\"where'd\":\"where did\",\n",
    "\"where'll\":\"where will\",\n",
    "\"where're\":\"where are\",\n",
    "\"where's\":\"where has / where is / where does\",\n",
    "\"where've\":\"where have\",\n",
    "\"which'd\":\"which would\",\n",
    "\"which'll\":\"which will\",\n",
    "\"which're\":\"which are\",\n",
    "\"which's\":\"which has / which is\",\n",
    "\"which've\":\"which have\",\n",
    "\"who'd\":\"who would / who had / who did\",\n",
    "\"who'd've\":\"who would have\",\n",
    "\"who'll\":\"who shall / who will\",\n",
    "\"who're\":\"who are\",\n",
    "\"who's\":\"who has / who is / who does\",\n",
    "\"who've\":\"who have\",\n",
    "\"why'd\":\"why did\",\n",
    "\"why're\":\"why are\",\n",
    "\"why's\":\"why has / why is / why does\",\n",
    "\"willn't\":\"will not\",\n",
    "\"won't\":\"will not\",\n",
    "\"wonnot\":\"will not\",\n",
    "\"would've\":\"would have\",\n",
    "\"wouldn't\":\"would not\",\n",
    "\"wouldn't've\":\"would not have\",\n",
    "\"y'all\":\"you all\",\n",
    "\"y'all'd've\":\"you all would have\",\n",
    "\"y'all'd'n't've\":\"you all would not have\",\n",
    "\"y'all're\":\"you all are\",\n",
    "\"y'at\":\"you at\",\n",
    "\"yes’m\":\"yes ma’am / yes madam\",\n",
    "\"yessir\":\"yes sir\",\n",
    "\"you'd\":\"you had / you would\",\n",
    "\"you'll\":\"you shall / you will\",\n",
    "\"you're\":\"you are\",\n",
    "\"you've\":\"you have\"\n",
    "}"
   ]
  },
  {
   "cell_type": "code",
   "execution_count": 32,
   "id": "surprising-bubble",
   "metadata": {},
   "outputs": [],
   "source": [
    "def contractions(x):\n",
    "    if type(x) is str:\n",
    "        x=x.replace(\"\\\\\",\"\")\n",
    "        for key in contractors_eng:\n",
    "            val=contractors_eng[key]\n",
    "            x=x.replace(key,val)\n",
    "        return x\n",
    "    else:\n",
    "        return x"
   ]
  },
  {
   "cell_type": "code",
   "execution_count": 33,
   "id": "considerable-magnet",
   "metadata": {},
   "outputs": [
    {
     "name": "stdout",
     "output_type": "stream",
     "text": [
      "Wall time: 1.28 s\n"
     ]
    }
   ],
   "source": [
    "%%time\n",
    "final_df[\"Clean_Headlines\"]=final_df[\"Headlines\"].apply(lambda x: contractions(x))"
   ]
  },
  {
   "cell_type": "code",
   "execution_count": 34,
   "id": "express-barcelona",
   "metadata": {},
   "outputs": [
    {
     "data": {
      "text/html": [
       "<div>\n",
       "<style scoped>\n",
       "    .dataframe tbody tr th:only-of-type {\n",
       "        vertical-align: middle;\n",
       "    }\n",
       "\n",
       "    .dataframe tbody tr th {\n",
       "        vertical-align: top;\n",
       "    }\n",
       "\n",
       "    .dataframe thead th {\n",
       "        text-align: right;\n",
       "    }\n",
       "</style>\n",
       "<table border=\"1\" class=\"dataframe\">\n",
       "  <thead>\n",
       "    <tr style=\"text-align: right;\">\n",
       "      <th></th>\n",
       "      <th>Headlines</th>\n",
       "      <th>Clean_Headlines</th>\n",
       "    </tr>\n",
       "    <tr>\n",
       "      <th>Date</th>\n",
       "      <th></th>\n",
       "      <th></th>\n",
       "    </tr>\n",
       "  </thead>\n",
       "  <tbody>\n",
       "    <tr>\n",
       "      <th>2015-01-01</th>\n",
       "      <td>What Can We Expect From Apple Inc. In 2015? 1 ...</td>\n",
       "      <td>What Can We Expect From Apple Inc. In 2015? 1 ...</td>\n",
       "    </tr>\n",
       "    <tr>\n",
       "      <th>2015-01-02</th>\n",
       "      <td>What to expect from Apple in 2015 beyond its s...</td>\n",
       "      <td>What to expect from Apple in 2015 beyond it is...</td>\n",
       "    </tr>\n",
       "    <tr>\n",
       "      <th>2015-01-03</th>\n",
       "      <td>Mountie: An inexpensive and innovative way to ...</td>\n",
       "      <td>Mountie: An inexpensive and innovative way to ...</td>\n",
       "    </tr>\n",
       "    <tr>\n",
       "      <th>2015-01-04</th>\n",
       "      <td>Donald Yacktman on the Sources of Moats, His C...</td>\n",
       "      <td>Doand alld Yacktman on the Sources of Moats, H...</td>\n",
       "    </tr>\n",
       "    <tr>\n",
       "      <th>2015-01-05</th>\n",
       "      <td>SIM-free iPhone 6, 6 Plus reportedly debuting ...</td>\n",
       "      <td>SIM-free iPhone 6, 6 Plus reportedly debuting ...</td>\n",
       "    </tr>\n",
       "  </tbody>\n",
       "</table>\n",
       "</div>"
      ],
      "text/plain": [
       "                                                    Headlines  \\\n",
       "Date                                                            \n",
       "2015-01-01  What Can We Expect From Apple Inc. In 2015? 1 ...   \n",
       "2015-01-02  What to expect from Apple in 2015 beyond its s...   \n",
       "2015-01-03  Mountie: An inexpensive and innovative way to ...   \n",
       "2015-01-04  Donald Yacktman on the Sources of Moats, His C...   \n",
       "2015-01-05  SIM-free iPhone 6, 6 Plus reportedly debuting ...   \n",
       "\n",
       "                                              Clean_Headlines  \n",
       "Date                                                           \n",
       "2015-01-01  What Can We Expect From Apple Inc. In 2015? 1 ...  \n",
       "2015-01-02  What to expect from Apple in 2015 beyond it is...  \n",
       "2015-01-03  Mountie: An inexpensive and innovative way to ...  \n",
       "2015-01-04  Doand alld Yacktman on the Sources of Moats, H...  \n",
       "2015-01-05  SIM-free iPhone 6, 6 Plus reportedly debuting ...  "
      ]
     },
     "execution_count": 34,
     "metadata": {},
     "output_type": "execute_result"
    }
   ],
   "source": [
    "final_df.head()"
   ]
  },
  {
   "cell_type": "markdown",
   "id": "hollywood-lancaster",
   "metadata": {},
   "source": [
    "# Changing all to lower case"
   ]
  },
  {
   "cell_type": "code",
   "execution_count": 35,
   "id": "tested-lindsay",
   "metadata": {},
   "outputs": [
    {
     "data": {
      "text/html": [
       "<div>\n",
       "<style scoped>\n",
       "    .dataframe tbody tr th:only-of-type {\n",
       "        vertical-align: middle;\n",
       "    }\n",
       "\n",
       "    .dataframe tbody tr th {\n",
       "        vertical-align: top;\n",
       "    }\n",
       "\n",
       "    .dataframe thead th {\n",
       "        text-align: right;\n",
       "    }\n",
       "</style>\n",
       "<table border=\"1\" class=\"dataframe\">\n",
       "  <thead>\n",
       "    <tr style=\"text-align: right;\">\n",
       "      <th></th>\n",
       "      <th>Headlines</th>\n",
       "      <th>Clean_Headlines</th>\n",
       "    </tr>\n",
       "    <tr>\n",
       "      <th>Date</th>\n",
       "      <th></th>\n",
       "      <th></th>\n",
       "    </tr>\n",
       "  </thead>\n",
       "  <tbody>\n",
       "    <tr>\n",
       "      <th>2015-01-01</th>\n",
       "      <td>What Can We Expect From Apple Inc. In 2015? 1 ...</td>\n",
       "      <td>what can we expect from apple inc. in 2015? 1 ...</td>\n",
       "    </tr>\n",
       "    <tr>\n",
       "      <th>2015-01-02</th>\n",
       "      <td>What to expect from Apple in 2015 beyond its s...</td>\n",
       "      <td>what to expect from apple in 2015 beyond it is...</td>\n",
       "    </tr>\n",
       "    <tr>\n",
       "      <th>2015-01-03</th>\n",
       "      <td>Mountie: An inexpensive and innovative way to ...</td>\n",
       "      <td>mountie: an inexpensive and innovative way to ...</td>\n",
       "    </tr>\n",
       "    <tr>\n",
       "      <th>2015-01-04</th>\n",
       "      <td>Donald Yacktman on the Sources of Moats, His C...</td>\n",
       "      <td>doand alld yacktman on the sources of moats, h...</td>\n",
       "    </tr>\n",
       "    <tr>\n",
       "      <th>2015-01-05</th>\n",
       "      <td>SIM-free iPhone 6, 6 Plus reportedly debuting ...</td>\n",
       "      <td>sim-free iphone 6, 6 plus reportedly debuting ...</td>\n",
       "    </tr>\n",
       "  </tbody>\n",
       "</table>\n",
       "</div>"
      ],
      "text/plain": [
       "                                                    Headlines  \\\n",
       "Date                                                            \n",
       "2015-01-01  What Can We Expect From Apple Inc. In 2015? 1 ...   \n",
       "2015-01-02  What to expect from Apple in 2015 beyond its s...   \n",
       "2015-01-03  Mountie: An inexpensive and innovative way to ...   \n",
       "2015-01-04  Donald Yacktman on the Sources of Moats, His C...   \n",
       "2015-01-05  SIM-free iPhone 6, 6 Plus reportedly debuting ...   \n",
       "\n",
       "                                              Clean_Headlines  \n",
       "Date                                                           \n",
       "2015-01-01  what can we expect from apple inc. in 2015? 1 ...  \n",
       "2015-01-02  what to expect from apple in 2015 beyond it is...  \n",
       "2015-01-03  mountie: an inexpensive and innovative way to ...  \n",
       "2015-01-04  doand alld yacktman on the sources of moats, h...  \n",
       "2015-01-05  sim-free iphone 6, 6 plus reportedly debuting ...  "
      ]
     },
     "execution_count": 35,
     "metadata": {},
     "output_type": "execute_result"
    }
   ],
   "source": [
    "col=['Clean_Headlines']\n",
    "for index in col:\n",
    "    final_df[index]=final_df[index].str.lower()\n",
    "final_df.head()"
   ]
  },
  {
   "cell_type": "markdown",
   "id": "considered-employee",
   "metadata": {},
   "source": [
    "# Stopwords Removal"
   ]
  },
  {
   "cell_type": "code",
   "execution_count": 36,
   "id": "ideal-reach",
   "metadata": {},
   "outputs": [],
   "source": [
    "final_df['Clean_Headlines']=final_df['Clean_Headlines'].apply(lambda x : ' '.join([word for word in x.split() if not word in set(stopwords.words('english'))]))"
   ]
  },
  {
   "cell_type": "markdown",
   "id": "initial-spell",
   "metadata": {},
   "source": [
    "# Lemmitization"
   ]
  },
  {
   "cell_type": "code",
   "execution_count": 37,
   "id": "crazy-entertainment",
   "metadata": {},
   "outputs": [],
   "source": [
    "lem=WordNetLemmatizer()\n",
    "final_df['Clean_Headlines']=final_df['Clean_Headlines'].apply(lambda x:' '.join([lem.lemmatize(word) for word in x.split()]))"
   ]
  },
  {
   "cell_type": "markdown",
   "id": "delayed-eating",
   "metadata": {},
   "source": [
    "# Stemming"
   ]
  },
  {
   "cell_type": "code",
   "execution_count": 38,
   "id": "western-example",
   "metadata": {},
   "outputs": [],
   "source": [
    "ps = PorterStemmer()\n",
    "final_df['Clean_Headlines']=final_df['Clean_Headlines'].apply(lambda x : ' '.join([ps.stem(word) for word in x.split()]))"
   ]
  },
  {
   "cell_type": "markdown",
   "id": "mental-contamination",
   "metadata": {},
   "source": [
    "# Tokenization"
   ]
  },
  {
   "cell_type": "code",
   "execution_count": 39,
   "id": "spoken-advocate",
   "metadata": {},
   "outputs": [],
   "source": [
    "corpus = []\n",
    "for i in range(0,2332):\n",
    "    news =final_df['Clean_Headlines'][i]\n",
    "    news = news.lower()\n",
    "    news = news.split()\n",
    "    news = [ps.stem(word) for word in news if not word in set(stopwords.words('english'))]\n",
    "    news = ' '.join(news)\n",
    "    corpus.append(news)"
   ]
  },
  {
   "cell_type": "markdown",
   "id": "interested-european",
   "metadata": {},
   "source": [
    "# WordCloud"
   ]
  },
  {
   "cell_type": "code",
   "execution_count": 40,
   "id": "unable-pixel",
   "metadata": {},
   "outputs": [
    {
     "data": {
      "image/png": "[encoded data removed]",
      "text/plain": [
       "<Figure size 432x288 with 1 Axes>"
      ]
     },
     "metadata": {
      "needs_background": "light"
     },
     "output_type": "display_data"
    }
   ],
   "source": [
    "import matplotlib as mpl\n",
    "import matplotlib.pyplot as plt\n",
    "%matplotlib inline\n",
    "from wordcloud import WordCloud, STOPWORDS\n",
    "mpl.rcParams['font.size']=20\n",
    "mpl.rcParams['figure.subplot.bottom']=.1 \n",
    "stopwords = set(STOPWORDS)\n",
    "wordcloud = WordCloud(background_color=\"yellow\",stopwords=stopwords,max_words=200,max_font_size=50, \n",
    "                          random_state=42).generate(str(final_df['Headlines']))\n",
    "fig = plt.figure(1)\n",
    "plt.imshow(wordcloud)\n",
    "plt.axis('off')\n",
    "plt.show()"
   ]
  },
  {
   "cell_type": "code",
   "execution_count": 41,
   "id": "appropriate-jordan",
   "metadata": {},
   "outputs": [
    {
     "data": {
      "text/html": [
       "<div>\n",
       "<style scoped>\n",
       "    .dataframe tbody tr th:only-of-type {\n",
       "        vertical-align: middle;\n",
       "    }\n",
       "\n",
       "    .dataframe tbody tr th {\n",
       "        vertical-align: top;\n",
       "    }\n",
       "\n",
       "    .dataframe thead th {\n",
       "        text-align: right;\n",
       "    }\n",
       "</style>\n",
       "<table border=\"1\" class=\"dataframe\">\n",
       "  <thead>\n",
       "    <tr style=\"text-align: right;\">\n",
       "      <th></th>\n",
       "      <th>Headlines</th>\n",
       "      <th>Clean_Headlines</th>\n",
       "      <th>Count of words</th>\n",
       "    </tr>\n",
       "    <tr>\n",
       "      <th>Date</th>\n",
       "      <th></th>\n",
       "      <th></th>\n",
       "      <th></th>\n",
       "    </tr>\n",
       "  </thead>\n",
       "  <tbody>\n",
       "    <tr>\n",
       "      <th>2015-01-01</th>\n",
       "      <td>What Can We Expect From Apple Inc. In 2015? 1 ...</td>\n",
       "      <td>expect appl inc. 2015? 1 reason might wrong ap...</td>\n",
       "      <td>27</td>\n",
       "    </tr>\n",
       "    <tr>\n",
       "      <th>2015-01-02</th>\n",
       "      <td>What to expect from Apple in 2015 beyond its s...</td>\n",
       "      <td>expect appl 2015 beyond smartwatch amazon\" lat...</td>\n",
       "      <td>353</td>\n",
       "    </tr>\n",
       "    <tr>\n",
       "      <th>2015-01-03</th>\n",
       "      <td>Mountie: An inexpensive and innovative way to ...</td>\n",
       "      <td>mountie: inexpens innov way attach iphon ipad ...</td>\n",
       "      <td>139</td>\n",
       "    </tr>\n",
       "    <tr>\n",
       "      <th>2015-01-04</th>\n",
       "      <td>Donald Yacktman on the Sources of Moats, His C...</td>\n",
       "      <td>doand alld yacktman sourc moats, concern apple...</td>\n",
       "      <td>103</td>\n",
       "    </tr>\n",
       "    <tr>\n",
       "      <th>2015-01-05</th>\n",
       "      <td>SIM-free iPhone 6, 6 Plus reportedly debuting ...</td>\n",
       "      <td>sim-fre iphon 6, 6 plu reportedli debut tomorr...</td>\n",
       "      <td>453</td>\n",
       "    </tr>\n",
       "  </tbody>\n",
       "</table>\n",
       "</div>"
      ],
      "text/plain": [
       "                                                    Headlines  \\\n",
       "Date                                                            \n",
       "2015-01-01  What Can We Expect From Apple Inc. In 2015? 1 ...   \n",
       "2015-01-02  What to expect from Apple in 2015 beyond its s...   \n",
       "2015-01-03  Mountie: An inexpensive and innovative way to ...   \n",
       "2015-01-04  Donald Yacktman on the Sources of Moats, His C...   \n",
       "2015-01-05  SIM-free iPhone 6, 6 Plus reportedly debuting ...   \n",
       "\n",
       "                                              Clean_Headlines  Count of words  \n",
       "Date                                                                           \n",
       "2015-01-01  expect appl inc. 2015? 1 reason might wrong ap...              27  \n",
       "2015-01-02  expect appl 2015 beyond smartwatch amazon\" lat...             353  \n",
       "2015-01-03  mountie: inexpens innov way attach iphon ipad ...             139  \n",
       "2015-01-04  doand alld yacktman sourc moats, concern apple...             103  \n",
       "2015-01-05  sim-fre iphon 6, 6 plu reportedli debut tomorr...             453  "
      ]
     },
     "execution_count": 41,
     "metadata": {},
     "output_type": "execute_result"
    }
   ],
   "source": [
    "final_df['Count of words']=final_df['Clean_Headlines'].apply(lambda x:len(x.split()))\n",
    "final_df.head()"
   ]
  },
  {
   "cell_type": "code",
   "execution_count": 42,
   "id": "final-advice",
   "metadata": {},
   "outputs": [
    {
     "data": {
      "text/html": [
       "<div>\n",
       "<style scoped>\n",
       "    .dataframe tbody tr th:only-of-type {\n",
       "        vertical-align: middle;\n",
       "    }\n",
       "\n",
       "    .dataframe tbody tr th {\n",
       "        vertical-align: top;\n",
       "    }\n",
       "\n",
       "    .dataframe thead th {\n",
       "        text-align: right;\n",
       "    }\n",
       "</style>\n",
       "<table border=\"1\" class=\"dataframe\">\n",
       "  <thead>\n",
       "    <tr style=\"text-align: right;\">\n",
       "      <th></th>\n",
       "      <th>Headlines</th>\n",
       "      <th>Clean_Headlines</th>\n",
       "      <th>Count of words</th>\n",
       "      <th>Polarity</th>\n",
       "    </tr>\n",
       "    <tr>\n",
       "      <th>Date</th>\n",
       "      <th></th>\n",
       "      <th></th>\n",
       "      <th></th>\n",
       "      <th></th>\n",
       "    </tr>\n",
       "  </thead>\n",
       "  <tbody>\n",
       "    <tr>\n",
       "      <th>2015-01-01</th>\n",
       "      <td>What Can We Expect From Apple Inc. In 2015? 1 ...</td>\n",
       "      <td>expect appl inc. 2015? 1 reason might wrong ap...</td>\n",
       "      <td>27</td>\n",
       "      <td>0.100130</td>\n",
       "    </tr>\n",
       "    <tr>\n",
       "      <th>2015-01-02</th>\n",
       "      <td>What to expect from Apple in 2015 beyond its s...</td>\n",
       "      <td>expect appl 2015 beyond smartwatch amazon\" lat...</td>\n",
       "      <td>353</td>\n",
       "      <td>0.135614</td>\n",
       "    </tr>\n",
       "    <tr>\n",
       "      <th>2015-01-03</th>\n",
       "      <td>Mountie: An inexpensive and innovative way to ...</td>\n",
       "      <td>mountie: inexpens innov way attach iphon ipad ...</td>\n",
       "      <td>139</td>\n",
       "      <td>0.195844</td>\n",
       "    </tr>\n",
       "    <tr>\n",
       "      <th>2015-01-04</th>\n",
       "      <td>Donald Yacktman on the Sources of Moats, His C...</td>\n",
       "      <td>doand alld yacktman sourc moats, concern apple...</td>\n",
       "      <td>103</td>\n",
       "      <td>0.137013</td>\n",
       "    </tr>\n",
       "    <tr>\n",
       "      <th>2015-01-05</th>\n",
       "      <td>SIM-free iPhone 6, 6 Plus reportedly debuting ...</td>\n",
       "      <td>sim-fre iphon 6, 6 plu reportedli debut tomorr...</td>\n",
       "      <td>453</td>\n",
       "      <td>0.108344</td>\n",
       "    </tr>\n",
       "  </tbody>\n",
       "</table>\n",
       "</div>"
      ],
      "text/plain": [
       "                                                    Headlines  \\\n",
       "Date                                                            \n",
       "2015-01-01  What Can We Expect From Apple Inc. In 2015? 1 ...   \n",
       "2015-01-02  What to expect from Apple in 2015 beyond its s...   \n",
       "2015-01-03  Mountie: An inexpensive and innovative way to ...   \n",
       "2015-01-04  Donald Yacktman on the Sources of Moats, His C...   \n",
       "2015-01-05  SIM-free iPhone 6, 6 Plus reportedly debuting ...   \n",
       "\n",
       "                                              Clean_Headlines  Count of words  \\\n",
       "Date                                                                            \n",
       "2015-01-01  expect appl inc. 2015? 1 reason might wrong ap...              27   \n",
       "2015-01-02  expect appl 2015 beyond smartwatch amazon\" lat...             353   \n",
       "2015-01-03  mountie: inexpens innov way attach iphon ipad ...             139   \n",
       "2015-01-04  doand alld yacktman sourc moats, concern apple...             103   \n",
       "2015-01-05  sim-fre iphon 6, 6 plu reportedli debut tomorr...             453   \n",
       "\n",
       "            Polarity  \n",
       "Date                  \n",
       "2015-01-01  0.100130  \n",
       "2015-01-02  0.135614  \n",
       "2015-01-03  0.195844  \n",
       "2015-01-04  0.137013  \n",
       "2015-01-05  0.108344  "
      ]
     },
     "execution_count": 42,
     "metadata": {},
     "output_type": "execute_result"
    }
   ],
   "source": [
    "from textblob import TextBlob\n",
    "final_df['Polarity']=final_df['Clean_Headlines'].apply(lambda x: TextBlob(x).sentiment.polarity)\n",
    "final_df.head()"
   ]
  },
  {
   "cell_type": "code",
   "execution_count": 43,
   "id": "committed-thing",
   "metadata": {},
   "outputs": [
    {
     "data": {
      "text/html": [
       "<div>\n",
       "<style scoped>\n",
       "    .dataframe tbody tr th:only-of-type {\n",
       "        vertical-align: middle;\n",
       "    }\n",
       "\n",
       "    .dataframe tbody tr th {\n",
       "        vertical-align: top;\n",
       "    }\n",
       "\n",
       "    .dataframe thead th {\n",
       "        text-align: right;\n",
       "    }\n",
       "</style>\n",
       "<table border=\"1\" class=\"dataframe\">\n",
       "  <thead>\n",
       "    <tr style=\"text-align: right;\">\n",
       "      <th></th>\n",
       "      <th>Headlines</th>\n",
       "      <th>Clean_Headlines</th>\n",
       "      <th>Count of words</th>\n",
       "      <th>Polarity</th>\n",
       "      <th>Label</th>\n",
       "    </tr>\n",
       "    <tr>\n",
       "      <th>Date</th>\n",
       "      <th></th>\n",
       "      <th></th>\n",
       "      <th></th>\n",
       "      <th></th>\n",
       "      <th></th>\n",
       "    </tr>\n",
       "  </thead>\n",
       "  <tbody>\n",
       "    <tr>\n",
       "      <th>2015-01-01</th>\n",
       "      <td>What Can We Expect From Apple Inc. In 2015? 1 ...</td>\n",
       "      <td>expect appl inc. 2015? 1 reason might wrong ap...</td>\n",
       "      <td>27</td>\n",
       "      <td>0.100130</td>\n",
       "      <td>1</td>\n",
       "    </tr>\n",
       "    <tr>\n",
       "      <th>2015-01-02</th>\n",
       "      <td>What to expect from Apple in 2015 beyond its s...</td>\n",
       "      <td>expect appl 2015 beyond smartwatch amazon\" lat...</td>\n",
       "      <td>353</td>\n",
       "      <td>0.135614</td>\n",
       "      <td>1</td>\n",
       "    </tr>\n",
       "    <tr>\n",
       "      <th>2015-01-03</th>\n",
       "      <td>Mountie: An inexpensive and innovative way to ...</td>\n",
       "      <td>mountie: inexpens innov way attach iphon ipad ...</td>\n",
       "      <td>139</td>\n",
       "      <td>0.195844</td>\n",
       "      <td>1</td>\n",
       "    </tr>\n",
       "    <tr>\n",
       "      <th>2015-01-04</th>\n",
       "      <td>Donald Yacktman on the Sources of Moats, His C...</td>\n",
       "      <td>doand alld yacktman sourc moats, concern apple...</td>\n",
       "      <td>103</td>\n",
       "      <td>0.137013</td>\n",
       "      <td>1</td>\n",
       "    </tr>\n",
       "    <tr>\n",
       "      <th>2015-01-05</th>\n",
       "      <td>SIM-free iPhone 6, 6 Plus reportedly debuting ...</td>\n",
       "      <td>sim-fre iphon 6, 6 plu reportedli debut tomorr...</td>\n",
       "      <td>453</td>\n",
       "      <td>0.108344</td>\n",
       "      <td>1</td>\n",
       "    </tr>\n",
       "  </tbody>\n",
       "</table>\n",
       "</div>"
      ],
      "text/plain": [
       "                                                    Headlines  \\\n",
       "Date                                                            \n",
       "2015-01-01  What Can We Expect From Apple Inc. In 2015? 1 ...   \n",
       "2015-01-02  What to expect from Apple in 2015 beyond its s...   \n",
       "2015-01-03  Mountie: An inexpensive and innovative way to ...   \n",
       "2015-01-04  Donald Yacktman on the Sources of Moats, His C...   \n",
       "2015-01-05  SIM-free iPhone 6, 6 Plus reportedly debuting ...   \n",
       "\n",
       "                                              Clean_Headlines  Count of words  \\\n",
       "Date                                                                            \n",
       "2015-01-01  expect appl inc. 2015? 1 reason might wrong ap...              27   \n",
       "2015-01-02  expect appl 2015 beyond smartwatch amazon\" lat...             353   \n",
       "2015-01-03  mountie: inexpens innov way attach iphon ipad ...             139   \n",
       "2015-01-04  doand alld yacktman sourc moats, concern apple...             103   \n",
       "2015-01-05  sim-fre iphon 6, 6 plu reportedli debut tomorr...             453   \n",
       "\n",
       "            Polarity  Label  \n",
       "Date                         \n",
       "2015-01-01  0.100130      1  \n",
       "2015-01-02  0.135614      1  \n",
       "2015-01-03  0.195844      1  \n",
       "2015-01-04  0.137013      1  \n",
       "2015-01-05  0.108344      1  "
      ]
     },
     "execution_count": 43,
     "metadata": {},
     "output_type": "execute_result"
    }
   ],
   "source": [
    "final_df['Label']=[1 if x>=0 else -1 for x in final_df['Polarity']]\n",
    "final_df.head()"
   ]
  },
  {
   "cell_type": "code",
   "execution_count": 44,
   "id": "unauthorized-extreme",
   "metadata": {},
   "outputs": [
    {
     "data": {
      "text/plain": [
       " 1    2139\n",
       "-1     193\n",
       "Name: Label, dtype: int64"
      ]
     },
     "execution_count": 44,
     "metadata": {},
     "output_type": "execute_result"
    }
   ],
   "source": [
    "final_df['Label'].value_counts()"
   ]
  },
  {
   "cell_type": "code",
   "execution_count": 45,
   "id": "funky-correlation",
   "metadata": {},
   "outputs": [
    {
     "data": {
      "text/html": [
       "<div>\n",
       "<style scoped>\n",
       "    .dataframe tbody tr th:only-of-type {\n",
       "        vertical-align: middle;\n",
       "    }\n",
       "\n",
       "    .dataframe tbody tr th {\n",
       "        vertical-align: top;\n",
       "    }\n",
       "\n",
       "    .dataframe thead th {\n",
       "        text-align: right;\n",
       "    }\n",
       "</style>\n",
       "<table border=\"1\" class=\"dataframe\">\n",
       "  <thead>\n",
       "    <tr style=\"text-align: right;\">\n",
       "      <th></th>\n",
       "      <th>Headlines</th>\n",
       "      <th>Clean_Headlines</th>\n",
       "      <th>Count of words</th>\n",
       "      <th>Polarity</th>\n",
       "      <th>Label</th>\n",
       "      <th>Label_vader</th>\n",
       "    </tr>\n",
       "    <tr>\n",
       "      <th>Date</th>\n",
       "      <th></th>\n",
       "      <th></th>\n",
       "      <th></th>\n",
       "      <th></th>\n",
       "      <th></th>\n",
       "      <th></th>\n",
       "    </tr>\n",
       "  </thead>\n",
       "  <tbody>\n",
       "    <tr>\n",
       "      <th>2015-01-01</th>\n",
       "      <td>What Can We Expect From Apple Inc. In 2015? 1 ...</td>\n",
       "      <td>expect appl inc. 2015? 1 reason might wrong ap...</td>\n",
       "      <td>27</td>\n",
       "      <td>0.100130</td>\n",
       "      <td>1</td>\n",
       "      <td>{'neg': 0.103, 'neu': 0.731, 'pos': 0.166, 'co...</td>\n",
       "    </tr>\n",
       "    <tr>\n",
       "      <th>2015-01-02</th>\n",
       "      <td>What to expect from Apple in 2015 beyond its s...</td>\n",
       "      <td>expect appl 2015 beyond smartwatch amazon\" lat...</td>\n",
       "      <td>353</td>\n",
       "      <td>0.135614</td>\n",
       "      <td>1</td>\n",
       "      <td>{'neg': 0.015, 'neu': 0.846, 'pos': 0.139, 'co...</td>\n",
       "    </tr>\n",
       "    <tr>\n",
       "      <th>2015-01-03</th>\n",
       "      <td>Mountie: An inexpensive and innovative way to ...</td>\n",
       "      <td>mountie: inexpens innov way attach iphon ipad ...</td>\n",
       "      <td>139</td>\n",
       "      <td>0.195844</td>\n",
       "      <td>1</td>\n",
       "      <td>{'neg': 0.103, 'neu': 0.761, 'pos': 0.136, 'co...</td>\n",
       "    </tr>\n",
       "    <tr>\n",
       "      <th>2015-01-04</th>\n",
       "      <td>Donald Yacktman on the Sources of Moats, His C...</td>\n",
       "      <td>doand alld yacktman sourc moats, concern apple...</td>\n",
       "      <td>103</td>\n",
       "      <td>0.137013</td>\n",
       "      <td>1</td>\n",
       "      <td>{'neg': 0.101, 'neu': 0.844, 'pos': 0.055, 'co...</td>\n",
       "    </tr>\n",
       "    <tr>\n",
       "      <th>2015-01-05</th>\n",
       "      <td>SIM-free iPhone 6, 6 Plus reportedly debuting ...</td>\n",
       "      <td>sim-fre iphon 6, 6 plu reportedli debut tomorr...</td>\n",
       "      <td>453</td>\n",
       "      <td>0.108344</td>\n",
       "      <td>1</td>\n",
       "      <td>{'neg': 0.016, 'neu': 0.857, 'pos': 0.127, 'co...</td>\n",
       "    </tr>\n",
       "  </tbody>\n",
       "</table>\n",
       "</div>"
      ],
      "text/plain": [
       "                                                    Headlines  \\\n",
       "Date                                                            \n",
       "2015-01-01  What Can We Expect From Apple Inc. In 2015? 1 ...   \n",
       "2015-01-02  What to expect from Apple in 2015 beyond its s...   \n",
       "2015-01-03  Mountie: An inexpensive and innovative way to ...   \n",
       "2015-01-04  Donald Yacktman on the Sources of Moats, His C...   \n",
       "2015-01-05  SIM-free iPhone 6, 6 Plus reportedly debuting ...   \n",
       "\n",
       "                                              Clean_Headlines  Count of words  \\\n",
       "Date                                                                            \n",
       "2015-01-01  expect appl inc. 2015? 1 reason might wrong ap...              27   \n",
       "2015-01-02  expect appl 2015 beyond smartwatch amazon\" lat...             353   \n",
       "2015-01-03  mountie: inexpens innov way attach iphon ipad ...             139   \n",
       "2015-01-04  doand alld yacktman sourc moats, concern apple...             103   \n",
       "2015-01-05  sim-fre iphon 6, 6 plu reportedli debut tomorr...             453   \n",
       "\n",
       "            Polarity  Label                                        Label_vader  \n",
       "Date                                                                            \n",
       "2015-01-01  0.100130      1  {'neg': 0.103, 'neu': 0.731, 'pos': 0.166, 'co...  \n",
       "2015-01-02  0.135614      1  {'neg': 0.015, 'neu': 0.846, 'pos': 0.139, 'co...  \n",
       "2015-01-03  0.195844      1  {'neg': 0.103, 'neu': 0.761, 'pos': 0.136, 'co...  \n",
       "2015-01-04  0.137013      1  {'neg': 0.101, 'neu': 0.844, 'pos': 0.055, 'co...  \n",
       "2015-01-05  0.108344      1  {'neg': 0.016, 'neu': 0.857, 'pos': 0.127, 'co...  "
      ]
     },
     "execution_count": 45,
     "metadata": {},
     "output_type": "execute_result"
    }
   ],
   "source": [
    "from nltk.sentiment.vader import SentimentIntensityAnalyzer\n",
    "final_df['Label_vader']=final_df['Clean_Headlines'].apply(lambda x: SentimentIntensityAnalyzer().polarity_scores(x))\n",
    "final_df.head()"
   ]
  },
  {
   "cell_type": "code",
   "execution_count": 46,
   "id": "inappropriate-plant",
   "metadata": {},
   "outputs": [],
   "source": [
    "final_df['compound'] =final_df['Label_vader'].apply(lambda x: x['compound'])\n",
    "final_df['sentiment_type']=''\n",
    "final_df.loc[final_df.compound>=0,'sentiment_type']=1\n",
    "final_df.loc[final_df.compound<0,'sentiment_type']=-1"
   ]
  },
  {
   "cell_type": "code",
   "execution_count": 47,
   "id": "separate-aerospace",
   "metadata": {},
   "outputs": [
    {
     "data": {
      "text/html": [
       "<div>\n",
       "<style scoped>\n",
       "    .dataframe tbody tr th:only-of-type {\n",
       "        vertical-align: middle;\n",
       "    }\n",
       "\n",
       "    .dataframe tbody tr th {\n",
       "        vertical-align: top;\n",
       "    }\n",
       "\n",
       "    .dataframe thead th {\n",
       "        text-align: right;\n",
       "    }\n",
       "</style>\n",
       "<table border=\"1\" class=\"dataframe\">\n",
       "  <thead>\n",
       "    <tr style=\"text-align: right;\">\n",
       "      <th></th>\n",
       "      <th>Headlines</th>\n",
       "      <th>Clean_Headlines</th>\n",
       "      <th>Count of words</th>\n",
       "      <th>Polarity</th>\n",
       "      <th>Label</th>\n",
       "      <th>Label_vader</th>\n",
       "      <th>compound</th>\n",
       "      <th>sentiment_type</th>\n",
       "    </tr>\n",
       "    <tr>\n",
       "      <th>Date</th>\n",
       "      <th></th>\n",
       "      <th></th>\n",
       "      <th></th>\n",
       "      <th></th>\n",
       "      <th></th>\n",
       "      <th></th>\n",
       "      <th></th>\n",
       "      <th></th>\n",
       "    </tr>\n",
       "  </thead>\n",
       "  <tbody>\n",
       "    <tr>\n",
       "      <th>2015-01-01</th>\n",
       "      <td>What Can We Expect From Apple Inc. In 2015? 1 ...</td>\n",
       "      <td>expect appl inc. 2015? 1 reason might wrong ap...</td>\n",
       "      <td>27</td>\n",
       "      <td>0.100130</td>\n",
       "      <td>1</td>\n",
       "      <td>{'neg': 0.103, 'neu': 0.731, 'pos': 0.166, 'co...</td>\n",
       "      <td>0.2263</td>\n",
       "      <td>1</td>\n",
       "    </tr>\n",
       "    <tr>\n",
       "      <th>2015-01-02</th>\n",
       "      <td>What to expect from Apple in 2015 beyond its s...</td>\n",
       "      <td>expect appl 2015 beyond smartwatch amazon\" lat...</td>\n",
       "      <td>353</td>\n",
       "      <td>0.135614</td>\n",
       "      <td>1</td>\n",
       "      <td>{'neg': 0.015, 'neu': 0.846, 'pos': 0.139, 'co...</td>\n",
       "      <td>0.9924</td>\n",
       "      <td>1</td>\n",
       "    </tr>\n",
       "    <tr>\n",
       "      <th>2015-01-03</th>\n",
       "      <td>Mountie: An inexpensive and innovative way to ...</td>\n",
       "      <td>mountie: inexpens innov way attach iphon ipad ...</td>\n",
       "      <td>139</td>\n",
       "      <td>0.195844</td>\n",
       "      <td>1</td>\n",
       "      <td>{'neg': 0.103, 'neu': 0.761, 'pos': 0.136, 'co...</td>\n",
       "      <td>0.7929</td>\n",
       "      <td>1</td>\n",
       "    </tr>\n",
       "    <tr>\n",
       "      <th>2015-01-04</th>\n",
       "      <td>Donald Yacktman on the Sources of Moats, His C...</td>\n",
       "      <td>doand alld yacktman sourc moats, concern apple...</td>\n",
       "      <td>103</td>\n",
       "      <td>0.137013</td>\n",
       "      <td>1</td>\n",
       "      <td>{'neg': 0.101, 'neu': 0.844, 'pos': 0.055, 'co...</td>\n",
       "      <td>-0.6298</td>\n",
       "      <td>-1</td>\n",
       "    </tr>\n",
       "    <tr>\n",
       "      <th>2015-01-05</th>\n",
       "      <td>SIM-free iPhone 6, 6 Plus reportedly debuting ...</td>\n",
       "      <td>sim-fre iphon 6, 6 plu reportedli debut tomorr...</td>\n",
       "      <td>453</td>\n",
       "      <td>0.108344</td>\n",
       "      <td>1</td>\n",
       "      <td>{'neg': 0.016, 'neu': 0.857, 'pos': 0.127, 'co...</td>\n",
       "      <td>0.9942</td>\n",
       "      <td>1</td>\n",
       "    </tr>\n",
       "  </tbody>\n",
       "</table>\n",
       "</div>"
      ],
      "text/plain": [
       "                                                    Headlines  \\\n",
       "Date                                                            \n",
       "2015-01-01  What Can We Expect From Apple Inc. In 2015? 1 ...   \n",
       "2015-01-02  What to expect from Apple in 2015 beyond its s...   \n",
       "2015-01-03  Mountie: An inexpensive and innovative way to ...   \n",
       "2015-01-04  Donald Yacktman on the Sources of Moats, His C...   \n",
       "2015-01-05  SIM-free iPhone 6, 6 Plus reportedly debuting ...   \n",
       "\n",
       "                                              Clean_Headlines  Count of words  \\\n",
       "Date                                                                            \n",
       "2015-01-01  expect appl inc. 2015? 1 reason might wrong ap...              27   \n",
       "2015-01-02  expect appl 2015 beyond smartwatch amazon\" lat...             353   \n",
       "2015-01-03  mountie: inexpens innov way attach iphon ipad ...             139   \n",
       "2015-01-04  doand alld yacktman sourc moats, concern apple...             103   \n",
       "2015-01-05  sim-fre iphon 6, 6 plu reportedli debut tomorr...             453   \n",
       "\n",
       "            Polarity  Label  \\\n",
       "Date                          \n",
       "2015-01-01  0.100130      1   \n",
       "2015-01-02  0.135614      1   \n",
       "2015-01-03  0.195844      1   \n",
       "2015-01-04  0.137013      1   \n",
       "2015-01-05  0.108344      1   \n",
       "\n",
       "                                                  Label_vader  compound  \\\n",
       "Date                                                                      \n",
       "2015-01-01  {'neg': 0.103, 'neu': 0.731, 'pos': 0.166, 'co...    0.2263   \n",
       "2015-01-02  {'neg': 0.015, 'neu': 0.846, 'pos': 0.139, 'co...    0.9924   \n",
       "2015-01-03  {'neg': 0.103, 'neu': 0.761, 'pos': 0.136, 'co...    0.7929   \n",
       "2015-01-04  {'neg': 0.101, 'neu': 0.844, 'pos': 0.055, 'co...   -0.6298   \n",
       "2015-01-05  {'neg': 0.016, 'neu': 0.857, 'pos': 0.127, 'co...    0.9942   \n",
       "\n",
       "           sentiment_type  \n",
       "Date                       \n",
       "2015-01-01              1  \n",
       "2015-01-02              1  \n",
       "2015-01-03              1  \n",
       "2015-01-04             -1  \n",
       "2015-01-05              1  "
      ]
     },
     "execution_count": 47,
     "metadata": {},
     "output_type": "execute_result"
    }
   ],
   "source": [
    "final_df.head()"
   ]
  },
  {
   "cell_type": "code",
   "execution_count": 48,
   "id": "spectacular-pricing",
   "metadata": {},
   "outputs": [
    {
     "data": {
      "text/plain": [
       " 1    1971\n",
       "-1     361\n",
       "Name: sentiment_type, dtype: int64"
      ]
     },
     "execution_count": 48,
     "metadata": {},
     "output_type": "execute_result"
    }
   ],
   "source": [
    "final_df['sentiment_type'].value_counts()"
   ]
  },
  {
   "cell_type": "code",
   "execution_count": 49,
   "id": "private-blanket",
   "metadata": {},
   "outputs": [
    {
     "data": {
      "text/html": [
       "<div>\n",
       "<style scoped>\n",
       "    .dataframe tbody tr th:only-of-type {\n",
       "        vertical-align: middle;\n",
       "    }\n",
       "\n",
       "    .dataframe tbody tr th {\n",
       "        vertical-align: top;\n",
       "    }\n",
       "\n",
       "    .dataframe thead th {\n",
       "        text-align: right;\n",
       "    }\n",
       "</style>\n",
       "<table border=\"1\" class=\"dataframe\">\n",
       "  <thead>\n",
       "    <tr style=\"text-align: right;\">\n",
       "      <th></th>\n",
       "      <th>Clean_Headlines</th>\n",
       "      <th>sentiment_type</th>\n",
       "    </tr>\n",
       "    <tr>\n",
       "      <th>Date</th>\n",
       "      <th></th>\n",
       "      <th></th>\n",
       "    </tr>\n",
       "  </thead>\n",
       "  <tbody>\n",
       "    <tr>\n",
       "      <th>2015-01-01</th>\n",
       "      <td>expect appl inc. 2015? 1 reason might wrong ap...</td>\n",
       "      <td>1</td>\n",
       "    </tr>\n",
       "    <tr>\n",
       "      <th>2015-01-02</th>\n",
       "      <td>expect appl 2015 beyond smartwatch amazon\" lat...</td>\n",
       "      <td>1</td>\n",
       "    </tr>\n",
       "    <tr>\n",
       "      <th>2015-01-03</th>\n",
       "      <td>mountie: inexpens innov way attach iphon ipad ...</td>\n",
       "      <td>1</td>\n",
       "    </tr>\n",
       "    <tr>\n",
       "      <th>2015-01-04</th>\n",
       "      <td>doand alld yacktman sourc moats, concern apple...</td>\n",
       "      <td>-1</td>\n",
       "    </tr>\n",
       "    <tr>\n",
       "      <th>2015-01-05</th>\n",
       "      <td>sim-fre iphon 6, 6 plu reportedli debut tomorr...</td>\n",
       "      <td>1</td>\n",
       "    </tr>\n",
       "  </tbody>\n",
       "</table>\n",
       "</div>"
      ],
      "text/plain": [
       "                                              Clean_Headlines sentiment_type\n",
       "Date                                                                        \n",
       "2015-01-01  expect appl inc. 2015? 1 reason might wrong ap...              1\n",
       "2015-01-02  expect appl 2015 beyond smartwatch amazon\" lat...              1\n",
       "2015-01-03  mountie: inexpens innov way attach iphon ipad ...              1\n",
       "2015-01-04  doand alld yacktman sourc moats, concern apple...             -1\n",
       "2015-01-05  sim-fre iphon 6, 6 plu reportedli debut tomorr...              1"
      ]
     },
     "execution_count": 49,
     "metadata": {},
     "output_type": "execute_result"
    }
   ],
   "source": [
    "col=final_df[['Clean_Headlines','sentiment_type']]\n",
    "new_df=col.copy()\n",
    "new_df.head()"
   ]
  },
  {
   "cell_type": "code",
   "execution_count": 50,
   "id": "expired-rebound",
   "metadata": {},
   "outputs": [
    {
     "data": {
      "text/plain": [
       "Clean_Headlines    object\n",
       "sentiment_type      int32\n",
       "dtype: object"
      ]
     },
     "execution_count": 50,
     "metadata": {},
     "output_type": "execute_result"
    }
   ],
   "source": [
    "new_df['sentiment_type']=new_df['sentiment_type'].astype('int')\n",
    "new_df.dtypes"
   ]
  },
  {
   "cell_type": "code",
   "execution_count": 52,
   "id": "least-dialogue",
   "metadata": {},
   "outputs": [],
   "source": [
    "train = new_df.iloc[0:1632,:]\n",
    "test = new_df.iloc[1632:,:]\n",
    "slicedData= train.iloc[:,0]\n",
    "sliced_Data= test.iloc[:,0]\n",
    "basicvectorizer = CountVectorizer(binary=True)\n",
    "basictrain = basicvectorizer.fit_transform(slicedData)"
   ]
  },
  {
   "cell_type": "code",
   "execution_count": 53,
   "id": "acute-custom",
   "metadata": {},
   "outputs": [],
   "source": [
    "from imblearn.over_sampling import SMOTE\n",
    "sm = SMOTE()\n",
    "X_train_res,y_train_res =sm.fit_resample(basictrain,train['sentiment_type'])"
   ]
  },
  {
   "cell_type": "code",
   "execution_count": 54,
   "id": "color-jacket",
   "metadata": {},
   "outputs": [
    {
     "name": "stdout",
     "output_type": "stream",
     "text": [
      "[(-1, 1331), (1, 1331)]\n"
     ]
    }
   ],
   "source": [
    "import numpy as np\n",
    "unique, counts = np.unique(y_train_res, return_counts=True)\n",
    "print(list(zip(unique, counts)))"
   ]
  },
  {
   "cell_type": "code",
   "execution_count": 55,
   "id": "numerical-fundamentals",
   "metadata": {},
   "outputs": [
    {
     "data": {
      "text/html": [
       "<div>\n",
       "<style scoped>\n",
       "    .dataframe tbody tr th:only-of-type {\n",
       "        vertical-align: middle;\n",
       "    }\n",
       "\n",
       "    .dataframe tbody tr th {\n",
       "        vertical-align: top;\n",
       "    }\n",
       "\n",
       "    .dataframe thead th {\n",
       "        text-align: right;\n",
       "    }\n",
       "</style>\n",
       "<table border=\"1\" class=\"dataframe\">\n",
       "  <thead>\n",
       "    <tr style=\"text-align: right;\">\n",
       "      <th>Predicted</th>\n",
       "      <th>-1</th>\n",
       "      <th>1</th>\n",
       "    </tr>\n",
       "    <tr>\n",
       "      <th>Actual</th>\n",
       "      <th></th>\n",
       "      <th></th>\n",
       "    </tr>\n",
       "  </thead>\n",
       "  <tbody>\n",
       "    <tr>\n",
       "      <th>-1</th>\n",
       "      <td>0</td>\n",
       "      <td>60</td>\n",
       "    </tr>\n",
       "    <tr>\n",
       "      <th>1</th>\n",
       "      <td>5</td>\n",
       "      <td>635</td>\n",
       "    </tr>\n",
       "  </tbody>\n",
       "</table>\n",
       "</div>"
      ],
      "text/plain": [
       "Predicted  -1    1\n",
       "Actual            \n",
       "-1          0   60\n",
       " 1          5  635"
      ]
     },
     "execution_count": 55,
     "metadata": {},
     "output_type": "execute_result"
    }
   ],
   "source": [
    "from sklearn.naive_bayes import MultinomialNB\n",
    "basicmodel =  MultinomialNB()\n",
    "basicmodel = basicmodel.fit(X_train_res,y_train_res)\n",
    "basictest = basicvectorizer.transform(sliced_Data)\n",
    "predictions = basicmodel.predict(basictest)"
   ]
  },
  {
   "cell_type": "code",
   "execution_count": 66,
   "id": "canadian-guyana",
   "metadata": {},
   "outputs": [
    {
     "data": {
      "text/plain": [
       "0.9470323065364388"
      ]
     },
     "execution_count": 66,
     "metadata": {},
     "output_type": "execute_result"
    }
   ],
   "source": [
    "basicmodel.score(X_train_res,y_train_res)"
   ]
  },
  {
   "cell_type": "code",
   "execution_count": 67,
   "id": "steady-pitch",
   "metadata": {},
   "outputs": [
    {
     "name": "stdout",
     "output_type": "stream",
     "text": [
      "\n",
      "Confusion Matrix:\n",
      " [[  0  60]\n",
      " [  5 635]]\n",
      "Accuracy: 90.71428571428571\n",
      "\n",
      "F1 Score: 95.13108614232209\n"
     ]
    }
   ],
   "source": [
    "from sklearn.metrics import accuracy_score,classification_report,f1_score,confusion_matrix\n",
    "print(\"\\nConfusion Matrix:\\n\", confusion_matrix(test['sentiment_type'],predictions))\n",
    "print(\"Accuracy:\",accuracy_score(test['sentiment_type'],predictions)*100)\n",
    "print(\"\\nF1 Score:\",f1_score(test['sentiment_type'],predictions) * 100)"
   ]
  },
  {
   "cell_type": "code",
   "execution_count": 68,
   "id": "enabling-intro",
   "metadata": {},
   "outputs": [
    {
     "name": "stdout",
     "output_type": "stream",
     "text": [
      "              precision    recall  f1-score   support\n",
      "\n",
      "          -1     0.0000    0.0000    0.0000        60\n",
      "           1     0.9137    0.9922    0.9513       640\n",
      "\n",
      "    accuracy                         0.9071       700\n",
      "   macro avg     0.4568    0.4961    0.4757       700\n",
      "weighted avg     0.8354    0.9071    0.8698       700\n",
      "\n"
     ]
    }
   ],
   "source": [
    "print(classification_report(test['sentiment_type'],predictions,digits=4))"
   ]
  },
  {
   "cell_type": "code",
   "execution_count": 69,
   "id": "dirty-desktop",
   "metadata": {},
   "outputs": [],
   "source": [
    "from sklearn.feature_extraction.text import TfidfTransformer\n",
    "train = new_df.iloc[0:1632,:]\n",
    "test = new_df.iloc[1632:,:]\n",
    "slicedData= train.iloc[:,0]\n",
    "sliced_Data= test.iloc[:,0]\n",
    "basicvectorizer = CountVectorizer()\n",
    "basictrain = basicvectorizer.fit_transform(slicedData)\n",
    "tfidf_transformer = TfidfTransformer()\n",
    "basictrain_tfidf = tfidf_transformer.fit_transform(basictrain)\n",
    "basicmodel= MultinomialNB()\n",
    "basicmodel = basicmodel.fit(X_train_res,y_train_res)\n",
    "basictest = basicvectorizer.transform(sliced_Data)\n",
    "basictest_tfidf = tfidf_transformer.transform(basictest)\n",
    "predictions_tfidf = basicmodel.predict(basictest_tfidf)"
   ]
  },
  {
   "cell_type": "code",
   "execution_count": 70,
   "id": "vulnerable-renewal",
   "metadata": {},
   "outputs": [
    {
     "name": "stdout",
     "output_type": "stream",
     "text": [
      "\n",
      "Confusion Matrix:\n",
      " [[ 15  45]\n",
      " [130 510]]\n",
      "Accuracy: 75.0\n",
      "\n",
      "F1 Score: 85.35564853556487\n"
     ]
    }
   ],
   "source": [
    "print(\"\\nConfusion Matrix:\\n\", confusion_matrix(test['sentiment_type'],predictions_tfidf))\n",
    "print(\"Accuracy:\",accuracy_score(test['sentiment_type'],predictions_tfidf)*100)\n",
    "print(\"\\nF1 Score:\",f1_score(test['sentiment_type'],predictions_tfidf) * 100)"
   ]
  },
  {
   "cell_type": "code",
   "execution_count": 64,
   "id": "minor-prerequisite",
   "metadata": {},
   "outputs": [
    {
     "name": "stdout",
     "output_type": "stream",
     "text": [
      "              precision    recall  f1-score   support\n",
      "\n",
      "          -1     0.1034    0.2500    0.1463        60\n",
      "           1     0.9189    0.7969    0.8536       640\n",
      "\n",
      "    accuracy                         0.7500       700\n",
      "   macro avg     0.5112    0.5234    0.4999       700\n",
      "weighted avg     0.8490    0.7500    0.7929       700\n",
      "\n"
     ]
    }
   ],
   "source": [
    "print(classification_report(test['sentiment_type'],predictions_tfidf,digits=4))"
   ]
  },
  {
   "cell_type": "code",
   "execution_count": null,
   "id": "together-participation",
   "metadata": {},
   "outputs": [],
   "source": []
  }
 ],
 "metadata": {
  "kernelspec": {
   "display_name": "Python 3",
   "language": "python",
   "name": "python3"
  },
  "language_info": {
   "codemirror_mode": {
    "name": "ipython",
    "version": 3
   },
   "file_extension": ".py",
   "mimetype": "text/x-python",
   "name": "python",
   "nbconvert_exporter": "python",
   "pygments_lexer": "ipython3",
   "version": "3.7.5"
  }
 },
 "nbformat": 4,
 "nbformat_minor": 5
}
